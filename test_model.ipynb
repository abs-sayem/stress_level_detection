{
 "cells": [
  {
   "cell_type": "markdown",
   "metadata": {},
   "source": [
    "**Import Libraries**"
   ]
  },
  {
   "cell_type": "code",
   "execution_count": 1,
   "metadata": {},
   "outputs": [],
   "source": [
    "import librosa\n",
    "import numpy as np\n",
    "import torch\n",
    "import torch.nn as nn\n",
    "import torch.optim as optim\n",
    "import speech_recognition as sr"
   ]
  },
  {
   "cell_type": "markdown",
   "metadata": {},
   "source": [
    "**Select Model**"
   ]
  },
  {
   "cell_type": "code",
   "execution_count": 2,
   "metadata": {},
   "outputs": [],
   "source": [
    "class AudioStressCNN(nn.Module):\n",
    "    def __init__(self, num_classes=7):  # Number of output classes\n",
    "        super(AudioStressCNN, self).__init__()\n",
    "        \n",
    "        # 1D CNN Layers for feature extraction\n",
    "        self.conv1 = nn.Conv1d(in_channels=1, out_channels=64, kernel_size=5, padding=2)\n",
    "        self.conv2 = nn.Conv1d(in_channels=64, out_channels=128, kernel_size=5, padding=2)\n",
    "        self.conv3 = nn.Conv1d(in_channels=128, out_channels=256, kernel_size=3, padding=1)\n",
    "\n",
    "        self.relu = nn.ReLU()\n",
    "        self.batch_norm1 = nn.BatchNorm1d(64)\n",
    "        self.batch_norm2 = nn.BatchNorm1d(128)\n",
    "        self.batch_norm3 = nn.BatchNorm1d(256)\n",
    "        \n",
    "        self.pool = nn.MaxPool1d(kernel_size=2)\n",
    "\n",
    "        # Dropout layer for CNN feature extraction\n",
    "        self.dropout_cnn = nn.Dropout(0.2)\n",
    "\n",
    "        # LSTM Layer for capturing temporal dependencies\n",
    "        self.lstm = nn.LSTM(input_size=256, hidden_size=128, num_layers=2, batch_first=True, bidirectional=True)\n",
    "\n",
    "        # Fully connected layers for classification\n",
    "        self.fc1 = nn.Linear(128 * 2, 256)  # Bidirectional LSTM doubles the hidden size\n",
    "        self.dropout_fc = nn.Dropout(0.5)  # Dropout after FC1\n",
    "        self.fc2 = nn.Linear(256, num_classes)\n",
    "\n",
    "    def forward(self, x):\n",
    "        # CNN feature extraction\n",
    "        x = self.relu(self.batch_norm1(self.conv1(x)))\n",
    "        x = self.pool(x)\n",
    "        x = self.dropout_cnn(x)\n",
    "\n",
    "        x = self.relu(self.batch_norm2(self.conv2(x)))\n",
    "        x = self.pool(x)\n",
    "        x = self.dropout_cnn(x)\n",
    "\n",
    "        x = self.relu(self.batch_norm3(self.conv3(x)))\n",
    "        x = self.pool(x)\n",
    "        x = self.dropout_cnn(x)\n",
    "\n",
    "        # Transpose for LSTM\n",
    "        x = x.permute(0, 2, 1)\n",
    "\n",
    "        # LSTM for temporal modeling\n",
    "        x, _ = self.lstm(x)\n",
    "\n",
    "        # Take the last time step's output\n",
    "        x = x[:, -1, :]\n",
    "\n",
    "        # Fully connected layers\n",
    "        x = self.relu(self.fc1(x))\n",
    "        x = self.dropout_fc(x)\n",
    "        x = self.fc2(x)\n",
    "        return x"
   ]
  },
  {
   "cell_type": "code",
   "execution_count": 3,
   "metadata": {},
   "outputs": [
    {
     "data": {
      "text/plain": [
       "<All keys matched successfully>"
      ]
     },
     "execution_count": 3,
     "metadata": {},
     "output_type": "execute_result"
    }
   ],
   "source": [
    "import warnings\n",
    "warnings.filterwarnings(\"ignore\")\n",
    "\n",
    "# Load the complete model\n",
    "model = torch.load(\"models/trained_model_modify_cnn_lstm_audio.pth\")\n",
    "# Define the model architecture (must match the one used during training)\n",
    "model = AudioStressCNN()\n",
    "\n",
    "# Load the state dictionary\n",
    "model.load_state_dict(torch.load(\"models/trained_model_modify_cnn_lstm_audio.pth\", map_location=torch.device(\"cpu\")))\n",
    "\n",
    "\n",
    "\n",
    "\n",
    "# # Define the path to the saved model\n",
    "# model_path = \"models/trained_model_modify_cnn_lstm_audio.pth\"\n",
    "\n",
    "# model=AudioStressCNN()\n",
    "# # Load the model's state_dict (weights)\n",
    "# model.load_state_dict(torch.load(model_path, map_location=torch.device(\"cpu\")))\n",
    "# model.eval()  # Set the model to evaluation mode"
   ]
  },
  {
   "cell_type": "markdown",
   "metadata": {},
   "source": [
    "**Transcribe Module**"
   ]
  },
  {
   "cell_type": "code",
   "execution_count": 4,
   "metadata": {},
   "outputs": [],
   "source": [
    "# Function to transcribe the audio to text\n",
    "def transcribe_audio(audio_path):\n",
    "    recognizer = sr.Recognizer()\n",
    "    audio = sr.AudioFile(audio_path)\n",
    "    \n",
    "    with audio as source:\n",
    "        audio_data = recognizer.record(source)\n",
    "        \n",
    "    try:\n",
    "        text = recognizer.recognize_google(audio_data)\n",
    "    except sr.UnknownValueError:\n",
    "        text = \"Unable to transcribe\"\n",
    "    except sr.RequestError as e:\n",
    "        text = f\"Error: {e}\"\n",
    "    \n",
    "    return text"
   ]
  },
  {
   "cell_type": "markdown",
   "metadata": {},
   "source": [
    "**Level Detection Module**"
   ]
  },
  {
   "cell_type": "code",
   "execution_count": 5,
   "metadata": {},
   "outputs": [],
   "source": [
    "# # Function to predict stress level from an audio file\n",
    "# def predict_stress_from_file(audio_path):\n",
    "#     try:\n",
    "#         # Load audio file\n",
    "#         audio_data, sr = librosa.load(audio_path, sr=16000)  # Resample to 16 kHz\n",
    "#         print(f\"Audio file loaded: {audio_path}, Duration: {len(audio_data)/sr:.2f} seconds\")\n",
    "\n",
    "#         # Extract MFCC features\n",
    "#         mfcc = librosa.feature.mfcc(y=audio_data, sr=sr, n_mfcc=40)\n",
    "#         mfcc = np.mean(mfcc.T, axis=0)\n",
    "#         mfcc = np.expand_dims(mfcc, axis=(0, 1))  # Add batch and channel dimensions\n",
    "\n",
    "#         # Convert to tensor\n",
    "#         mfcc_tensor = torch.tensor(mfcc, dtype=torch.float32)\n",
    "\n",
    "#         # Predict using the model\n",
    "#         output = model(mfcc_tensor)\n",
    "#         _, predicted = torch.max(output, 1)\n",
    "\n",
    "#         # Map prediction to stress level\n",
    "#         label_mapping = {0: '1 (Low)', 1: '2 (Low-Mild)', 2: '4 (Mild)', 3: '5 (Moderate)', 4: '6 (Moderate-High)', 5: '8 (high)', 6: '9 (critical)'}\n",
    "\n",
    "#         stress_level = label_mapping[predicted.item()]\n",
    "#         return stress_level\n",
    "#     except Exception as e:\n",
    "#         print(f\"Error processing file: {e}\")\n",
    "#         return \"Error\"\n",
    "    \n",
    "    \n",
    "# Function to predict stress level\n",
    "def predict_stress_from_file(audio_path):\n",
    "    try:\n",
    "        # Load audio file\n",
    "        audio_data, sr = librosa.load(audio_path, sr=16000)\n",
    "        mfcc = librosa.feature.mfcc(y=audio_data, sr=sr, n_mfcc=40)\n",
    "        mfcc = np.mean(mfcc.T, axis=0)\n",
    "        mfcc = np.expand_dims(mfcc, axis=(0, 1))  # Add batch and channel dimensions\n",
    "\n",
    "        mfcc_tensor = torch.tensor(mfcc, dtype=torch.float32)\n",
    "        output = model(mfcc_tensor)\n",
    "        _, predicted = torch.max(output, 1)\n",
    "\n",
    "        # Map prediction to stress level\n",
    "        label_mapping = {\n",
    "            0: \"1 (low)\",  # Low stress\n",
    "            1: \"2 (low-mild)\",\n",
    "            2: \"4 (mild)\",\n",
    "            3: \"5 (mild-moderate)\",\n",
    "            4: \"6 (modetate-high)\",\n",
    "            5: \"8 (high-critical)\",\n",
    "            6: \"9 (critical)\",  # Critical\n",
    "        }\n",
    "        return label_mapping[predicted.item()]\n",
    "    except Exception as e:\n",
    "        st.error(f\"Error processing file: {e}\")\n",
    "        return 0"
   ]
  },
  {
   "cell_type": "markdown",
   "metadata": {},
   "source": [
    "**Inference**"
   ]
  },
  {
   "cell_type": "code",
   "execution_count": 44,
   "metadata": {},
   "outputs": [
    {
     "name": "stdout",
     "output_type": "stream",
     "text": [
      "Audio Text: places on Fire please send help\n",
      "Predicted Stress Level: 8 (high-critical)\n"
     ]
    }
   ],
   "source": [
    "# Input from the user\n",
    "audio_file_path = \"dataset/test_data/fire.wav\"\n",
    "text=transcribe_audio(audio_file_path)\n",
    "print(f\"Audio Text: {text}\")\n",
    "# Predict stress level\n",
    "predicted_stress_level = predict_stress_from_file(audio_file_path)\n",
    "print(f\"Predicted Stress Level: {predicted_stress_level}\")\n",
    "\n",
    "\n",
    "# Visualize the Level\n",
    "import matplotlib.pyplot as plt\n",
    "import numpy as np\n",
    "# Define the label mapping\n",
    "label_mapping = {\n",
    "    0: \"1 (low)\",  # Low stress\n",
    "    1: \"2 (low-mild)\",\n",
    "    2: \"4 (mild)\",\n",
    "    3: \"5 (mild-moderate)\",\n",
    "    4: \"6 (moderate-high)\",\n",
    "    5: \"8 (high-critical)\",\n",
    "    6: \"9 (critical)\",  # Critical\n",
    "}\n",
    "\n",
    "# Reverse mapping for visualization indices\n",
    "level_indices = {v: k for k, v in label_mapping.items()}\n",
    "\n",
    "def visualize_stress_level_circular(level_label, max_level=7):\n",
    "    # Get the numeric index of the stress level\n",
    "    if level_label not in level_indices:\n",
    "        raise ValueError(f\"Invalid stress level label: {level_label}\")\n",
    "    \n",
    "    level_index = level_indices[level_label] + 1  # Convert to 1-based index\n",
    "    levels = list(label_mapping.values())  # List of all levels\n",
    "\n",
    "    fig, ax = plt.subplots(subplot_kw={'projection': 'polar'})\n",
    "\n",
    "    # Define the angles for each level\n",
    "    theta = np.linspace(0, 2 * np.pi, max_level, endpoint=False)\n",
    "    radii = [1] * max_level\n",
    "    colors = ['silver'] * max_level\n",
    "    colors[level_index - 1] = 'red'  # Highlight the predicted level\n",
    "\n",
    "    # Create bars for each level\n",
    "    bars = ax.bar(theta, radii, color=colors, width=2 * np.pi / max_level, edgecolor='black', align='edge')\n",
    "\n",
    "    # Add a needle pointing to the predicted level\n",
    "    needle_angle = theta[level_index - 1]\n",
    "    ax.plot([0, needle_angle], [0, 1.0], color='red', linewidth=1, label=f\"Predicted Level: {level_label}\")\n",
    "\n",
    "    # Add labels\n",
    "    ax.set_yticks([])\n",
    "    ax.set_xticks(theta)\n",
    "    ax.set_xticklabels(levels)\n",
    "    ax.legend(loc=\"upper right\")\n",
    "    #ax.set_title(\"Stress Level Visualization (Dial)\")\n",
    "    plt.show()\n",
    "\n",
    "# Example usage\n",
    "stress_level = predicted_stress_level  # Replace this with your prediction\n",
    "#visualize_stress_level_circular(stress_level)\n"
   ]
  },
  {
   "cell_type": "code",
   "execution_count": 32,
   "metadata": {},
   "outputs": [
    {
     "data": {
      "image/png": "[encoded data removed]",
      "text/plain": [
       "<Figure size 1500x100 with 1 Axes>"
      ]
     },
     "metadata": {},
     "output_type": "display_data"
    }
   ],
   "source": [
    "def visualize_stress_level_slider(level_label, max_level=7):\n",
    "    # Get the numeric index of the stress level\n",
    "    if level_label not in level_indices:\n",
    "        raise ValueError(f\"Invalid stress level label: {level_label}\")\n",
    "    \n",
    "    level_index = level_indices[level_label] + 1  # Convert to 1-based index\n",
    "    levels = list(label_mapping.values())  # List of all levels\n",
    "\n",
    "    fig, ax = plt.subplots(figsize=(15, 1))\n",
    "\n",
    "    # Create a horizontal bar for the slider\n",
    "    slider_width = 1.0 / max_level\n",
    "    for i in range(max_level):\n",
    "        ax.barh(0, slider_width, left=i / max_level, color='silver', edgecolor='gray')\n",
    "    ax.barh(0, slider_width, left=(level_index - 1) / max_level, color='red', edgecolor='red')\n",
    "\n",
    "    # Add level labels\n",
    "    for i, label in enumerate(levels):\n",
    "        ax.text(i / max_level + slider_width / 2, 0.3, label, ha='center', va='center', fontsize=10)\n",
    "\n",
    "    ax.set_xlim(0, 1)\n",
    "    ax.set_yticks([])\n",
    "    ax.set_xticks([])\n",
    "    ax.set_title(\"Stress Level Visualization\")\n",
    "\n",
    "    plt.show()\n",
    "\n",
    "# Example usage\n",
    "stress_level = predicted_stress_level  # Replace this with your prediction\n",
    "visualize_stress_level_slider(stress_level)"
   ]
  }
 ],
 "metadata": {
  "kernelspec": {
   "display_name": "venv",
   "language": "python",
   "name": "python3"
  },
  "language_info": {
   "codemirror_mode": {
    "name": "ipython",
    "version": 3
   },
   "file_extension": ".py",
   "mimetype": "text/x-python",
   "name": "python",
   "nbconvert_exporter": "python",
   "pygments_lexer": "ipython3",
   "version": "3.11.4"
  }
 },
 "nbformat": 4,
 "nbformat_minor": 2
}
